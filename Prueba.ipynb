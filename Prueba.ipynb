{
 "cells": [
  {
   "cell_type": "code",
   "execution_count": 1,
   "id": "9abcae50-fd7b-40a4-be2d-10ef61558ea6",
   "metadata": {},
   "outputs": [],
   "source": [
    "from qiskit import QuantumCircuit\n",
    "from qiskit_qir import to_qir_module\n",
    "from qiskit_qasm3_import import parse\n",
    "\n",
    "\n",
    "qasm_str=\"\"\"OPENQASM 3.0; include 'stdgates.inc'; bit[11] c; qubit[12] q; x q[11]; h q[0]; h q[1]; h q[2]; h q[3]; h q[4]; h q[5]; h q[6]; h q[7]; h q[8]; h q[9]; h q[10]; h q[11]; barrier q[0], q[1], q[2], q[3], q[4], q[5], q[6], q[7], q[8], q[9], q[10], q[11]; cx q[0], q[11]; cx q[1], q[11]; cx q[2], q[11]; cx q[3], q[11]; cx q[4], q[11]; cx q[5], q[11]; cx q[6], q[11]; cx q[7], q[11]; cx q[8], q[11]; cx q[9], q[11];  cx q[10], q[11]; barrier q[0], q[1], q[2], q[3], q[4], q[5], q[6], q[7], q[8], q[9], q[10], q[11]; h q[0]; h q[1]; h q[2]; h q[3]; h q[4]; h q[5]; h q[6]; h q[7]; h q[8]; h q[9]; h q[10]; h q[11]; barrier q[0], q[1], q[2], q[3], q[4], q[5], q[6], q[7], q[8], q[9], q[10], q[11]; c[0] = measure q[0]; c[1] = measure q[1]; c[2] = measure q[2]; c[3] = measure q[3]; c[4] = measure q[4]; c[5] = measure q[5]; c[6] = measure q[6]; c[7] = measure q[7]; c[8] = measure q[8]; c[9] = measure q[9]; c[10] = measure q[10]; \"\"\"\n",
    "\n",
    "if \"OPENQASM 2.0\" in qasm_str:\n",
    "    circuit=QuantumCircuit.from_qasm_str(qasm_str)\n",
    "else:\n",
    "    circuit = parse(qasm_str)"
   ]
  },
  {
   "cell_type": "code",
   "execution_count": 2,
   "id": "e37f5de6-b1b2-409e-a440-52cadff25ae4",
   "metadata": {},
   "outputs": [
    {
     "name": "stderr",
     "output_type": "stream",
     "text": [
      "C:\\Users\\anton\\AppData\\Roaming\\Python\\Python39\\site-packages\\qiskit_ibm_runtime\\session.py:156: UserWarning: Session is not supported in local testing mode or when using a simulator.\n",
      "  warnings.warn(\n"
     ]
    },
    {
     "data": {
      "text/plain": [
       "SamplerResult(quasi_dists=[{2047: 1.0}], metadata=[{'shots': 1000, 'circuit_metadata': {}}])"
      ]
     },
     "execution_count": 2,
     "metadata": {},
     "output_type": "execute_result"
    }
   ],
   "source": [
    "from qcentroid_runtime_qiskit import QCentroidRuntimeQiskit\n",
    "params={\n",
    "    \"provider\":\"IBMCloud\",\n",
    "    \"backend\":'simulator_mps',\n",
    "    \"IBMQuantumToken\":'6510860c8491290a313b590226cee09216f91cec324c9b19dd4f6a57003c1c2886278066832e2abcdbd64720ea59bd93344ec0bbb6ac782a60bfe3987f4acea6',\n",
    "    \"IBMQuantumInstance\":'ibm-q/open/main',\n",
    "    \"IBMCloudToken\":\"ZWrYExyPnK8sswxlMvRYUw6BW0FfyNcegJhM3VnHu5vt\",\n",
    "    \"IBMCloudInstance\":'crn:v1:bluemix:public:quantum-computing:us-east:a/f14b8d2a8bd8413489fa144106e4b30f:257aa307-1024-4421-8914-9d3c69208a16::',\n",
    "    \"qcentroid_job_id\":'test'\n",
    "}\n",
    "\n",
    "instance=QCentroidRuntimeQiskit(params)\n",
    "instance.execute(circuit)"
   ]
  }
 ],
 "metadata": {
  "kernelspec": {
   "display_name": "Python 3 (ipykernel)",
   "language": "python",
   "name": "python3"
  },
  "language_info": {
   "codemirror_mode": {
    "name": "ipython",
    "version": 3
   },
   "file_extension": ".py",
   "mimetype": "text/x-python",
   "name": "python",
   "nbconvert_exporter": "python",
   "pygments_lexer": "ipython3",
   "version": "3.9.18"
  }
 },
 "nbformat": 4,
 "nbformat_minor": 5
}
