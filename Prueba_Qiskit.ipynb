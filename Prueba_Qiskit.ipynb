{
 "cells": [
  {
   "cell_type": "code",
   "execution_count": 1,
   "id": "9abcae50-fd7b-40a4-be2d-10ef61558ea6",
   "metadata": {},
   "outputs": [],
   "source": [
    "from qiskit import QuantumCircuit\n",
    "from qiskit_qir import to_qir_module\n",
    "from qiskit_qasm3_import import parse\n",
    "\n",
    "\n",
    "qasm_str=\"\"\"OPENQASM 3.0; include 'stdgates.inc'; bit[11] c; qubit[12] q; x q[11]; h q[0]; h q[1]; h q[2]; h q[3]; h q[4]; h q[5]; h q[6]; h q[7]; h q[8]; h q[9]; h q[10]; h q[11]; barrier q[0], q[1], q[2], q[3], q[4], q[5], q[6], q[7], q[8], q[9], q[10], q[11]; cx q[0], q[11]; cx q[1], q[11]; cx q[2], q[11]; cx q[3], q[11]; cx q[4], q[11]; cx q[5], q[11]; cx q[6], q[11]; cx q[7], q[11]; cx q[8], q[11]; cx q[9], q[11];  cx q[10], q[11]; barrier q[0], q[1], q[2], q[3], q[4], q[5], q[6], q[7], q[8], q[9], q[10], q[11]; h q[0]; h q[1]; h q[2]; h q[3]; h q[4]; h q[5]; h q[6]; h q[7]; h q[8]; h q[9]; h q[10]; h q[11]; barrier q[0], q[1], q[2], q[3], q[4], q[5], q[6], q[7], q[8], q[9], q[10], q[11]; c[0] = measure q[0]; c[1] = measure q[1]; c[2] = measure q[2]; c[3] = measure q[3]; c[4] = measure q[4]; c[5] = measure q[5]; c[6] = measure q[6]; c[7] = measure q[7]; c[8] = measure q[8]; c[9] = measure q[9]; c[10] = measure q[10]; \"\"\"\n",
    "\n",
    "if \"OPENQASM 2.0\" in qasm_str:\n",
    "    circuit=QuantumCircuit.from_qasm_str(qasm_str)\n",
    "else:\n",
    "    circuit = parse(qasm_str)"
   ]
  },
  {
   "cell_type": "code",
   "execution_count": 2,
   "id": "e37f5de6-b1b2-409e-a440-52cadff25ae4",
   "metadata": {},
   "outputs": [
    {
     "data": {
      "text/plain": [
       "SamplerResult(quasi_dists=[{2039: 0.002, 2045: 0.002, 2047: 0.996}], metadata=[{'shots': 1000}])"
      ]
     },
     "execution_count": 2,
     "metadata": {},
     "output_type": "execute_result"
    }
   ],
   "source": [
    "from qcentroid_runtime import QCentroidRuntimeQiskit\n",
    "params={\n",
    "    \"provider\":\"IonQ\",\n",
    "    \"backend\":'simulator',\n",
    "    \"IBMQuantumToken\":'6510860c8491290a313b590226cee09216f91cec324c9b19dd4f6a57003c1c2886278066832e2abcdbd64720ea59bd93344ec0bbb6ac782a60bfe3987f4acea6',\n",
    "    \"IBMQuantumInstance\":'ibm-q/open/main',\n",
    "    \"IBMCloudToken\":\"ZWrYExyPnK8sswxlMvRYUw6BW0FfyNcegJhM3VnHu5vt\",\n",
    "    \"IBMCloudInstance\":'crn:v1:bluemix:public:quantum-computing:us-east:a/f14b8d2a8bd8413489fa144106e4b30f:257aa307-1024-4421-8914-9d3c69208a16::',\n",
    "    \"qcentroid_job_id\":'test',\n",
    "    \"IonQ_API_Key\":'zCD4mYwQQEbKadjjkUfho5Nji9VhgHJE',\n",
    "    \"IonQ_Noise_Model\":'aria-1',\n",
    "    \"AQT_AccessToken\":\"ACCESS_TOKEN\",\n",
    "    \"FIREOPAL_ORGANIZATION\":\"qcentroid-organization\",\n",
    "    \"FIREOPAL_TOKEN\":\"LuRFWxIRpoGRSteqULCMokAWLUy6C5UhHxbojCgOp2thrrtC5A\"\n",
    "}\n",
    "\n",
    "instance=QCentroidRuntimeQiskit(params)\n",
    "instance.execute(circuit)"
   ]
  },
  {
   "cell_type": "code",
   "execution_count": 5,
   "id": "f72c6ffb-61c6-4c31-ab1b-e82cbf8f5904",
   "metadata": {},
   "outputs": [
    {
     "data": {
      "text/plain": [
       "'2caa5940-e1ea-45d5-ab58-3b29bd0dc6bc'"
      ]
     },
     "execution_count": 5,
     "metadata": {},
     "output_type": "execute_result"
    }
   ],
   "source": [
    "from qiskit import QuantumCircuit\n",
    "from qiskit_ionq import IonQProvider\n",
    "\n",
    "provider = IonQProvider(token='zCD4mYwQQEbKadjjkUfho5Nji9VhgHJE')\n",
    "simulator_backend = provider.get_backend(\"simulator\")\n",
    "simulator_backend.options.noise_model='aria-1'\n",
    "# Create a basic Bell State circuit:\n",
    "qc = QuantumCircuit(2, 2)\n",
    "qc.h(0)\n",
    "qc.cx(0, 1)\n",
    "qc.measure([0, 1], [0, 1])\n",
    "\n",
    "# Run the circuit on IonQ's platform:\n",
    "job = simulator_backend.run(qc, shots=10000)\n",
    "\n",
    "job.job_id()\n"
   ]
  },
  {
   "cell_type": "code",
   "execution_count": 6,
   "id": "f54d6da7-8426-471b-904e-0d41b196d4d6",
   "metadata": {},
   "outputs": [],
   "source": [
    "job.wait_for_final_state()"
   ]
  },
  {
   "cell_type": "code",
   "execution_count": null,
   "id": "1db7ebf1-e00e-47d3-96d5-9024871cf8f8",
   "metadata": {},
   "outputs": [],
   "source": [
    "from qiskit_ionq.ionq_client import IonQClient\n",
    "client=IonQClient()\n",
    "client.retrieve_job('89444046-849f-4578-a974-6abb8cb6410e')"
   ]
  },
  {
   "cell_type": "code",
   "execution_count": 5,
   "id": "e2a0b02e-1c62-4d51-aa31-a336cb4d36a9",
   "metadata": {},
   "outputs": [],
   "source": [
    "from qiskit_ibm_runtime import QiskitRuntimeService\n",
    "\n",
    "service=QiskitRuntimeService(channel='ibm_cloud',token=\"ZWrYExyPnK8sswxlMvRYUw6BW0FfyNcegJhM3VnHu5vt\",instance='crn:v1:bluemix:public:quantum-computing:us-east:a/f14b8d2a8bd8413489fa144106e4b30f:257aa307-1024-4421-8914-9d3c69208a16::')"
   ]
  },
  {
   "cell_type": "code",
   "execution_count": 6,
   "id": "b9b08fa9-a232-4985-a3ee-926dac12c454",
   "metadata": {},
   "outputs": [
    {
     "data": {
      "text/plain": [
       "[<IBMBackend('ibm_brisbane')>,\n",
       " <IBMBackend('ibm_kyoto')>,\n",
       " <IBMBackend('ibm_osaka')>,\n",
       " <IBMBackend('ibm_sherbrooke')>,\n",
       " <IBMBackend('ibmq_qasm_simulator')>,\n",
       " <IBMBackend('simulator_stabilizer')>,\n",
       " <IBMBackend('simulator_mps')>,\n",
       " <IBMBackend('simulator_extended_stabilizer')>,\n",
       " <IBMBackend('simulator_statevector')>]"
      ]
     },
     "execution_count": 6,
     "metadata": {},
     "output_type": "execute_result"
    }
   ],
   "source": [
    "service.backends()"
   ]
  },
  {
   "cell_type": "code",
   "execution_count": 8,
   "id": "f385f3db-90a2-4188-a3af-bf64af665bd3",
   "metadata": {},
   "outputs": [],
   "source": [
    "import  qiskit_ibm_runtime.fake_provider as fake"
   ]
  },
  {
   "cell_type": "code",
   "execution_count": 14,
   "id": "665a6fd7-cde7-4d36-8c98-25cccfee0520",
   "metadata": {},
   "outputs": [
    {
     "data": {
      "text/plain": [
       "qiskit_ibm_runtime.fake_provider.backends.algiers.fake_algiers.FakeAlgiers"
      ]
     },
     "execution_count": 14,
     "metadata": {},
     "output_type": "execute_result"
    }
   ],
   "source": [
    "import inspect\n",
    "[x[1] for x in inspect.getmembers(fake,  predicate=inspect.isclass) if x[0]=='FakeAlgiers'][0]"
   ]
  },
  {
   "cell_type": "code",
   "execution_count": 1,
   "id": "5d2e5dc1-dab8-4259-bed8-55e80e83c95b",
   "metadata": {},
   "outputs": [
    {
     "name": "stdout",
     "output_type": "stream",
     "text": [
      "{0: 0.5, 3: 0.47, 2: 0.02, 1: 0.01}\n"
     ]
    }
   ],
   "source": [
    "from qiskit import QuantumCircuit\n",
    "\n",
    "from qiskit_aqt_provider import AQTProvider\n",
    "from qiskit_aqt_provider.primitives import AQTSampler\n",
    "\n",
    "# Define a circuit.\n",
    "circuit = QuantumCircuit(2)\n",
    "circuit.h(0)\n",
    "circuit.cx(0, 1)\n",
    "circuit.measure_all()\n",
    "\n",
    "# Select an execution backend.\n",
    "# Any token (even invalid) gives access to the offline simulation backends.\n",
    "provider = AQTProvider(\"ACCESS_TOKEN\")\n",
    "backend = provider.get_backend(\"offline_simulator_noise\")\n",
    "\n",
    "# Instantiate a sampler on the execution backend.\n",
    "sampler = AQTSampler(backend)\n",
    "\n",
    "# Optional: set the transpiler's optimization level.\n",
    "# Optimization level 3 typically provides the best results.\n",
    "sampler.set_transpile_options(optimization_level=3)\n",
    "\n",
    "# Sample the circuit on the execution backend.\n",
    "result = sampler.run(circuit).result()\n",
    "\n",
    "quasi_dist = result.quasi_dists[0]\n",
    "print(quasi_dist)"
   ]
  },
  {
   "cell_type": "code",
   "execution_count": 3,
   "id": "9accefe9-6de8-49ef-b13c-9f417df55796",
   "metadata": {},
   "outputs": [
    {
     "name": "stdout",
     "output_type": "stream",
     "text": [
      "[<IonQSimulatorBackend('ionq_simulator')>, <IonQQPUBackend('ionq_qpu')>]\n"
     ]
    }
   ],
   "source": [
    "from qiskit_ionq import IonQProvider\n",
    "provider = IonQProvider()\n",
    "\n",
    "print(provider.backends())"
   ]
  },
  {
   "cell_type": "code",
   "execution_count": 10,
   "id": "1b421bcc-3aad-459d-a2ba-de046a2cef20",
   "metadata": {},
   "outputs": [
    {
     "ename": "AttributeError",
     "evalue": "'SamplerResult' object has no attribute 'get_counts'",
     "output_type": "error",
     "traceback": [
      "\u001b[1;31m---------------------------------------------------------------------------\u001b[0m",
      "\u001b[1;31mAttributeError\u001b[0m                            Traceback (most recent call last)",
      "Cell \u001b[1;32mIn[10], line 2\u001b[0m\n\u001b[0;32m      1\u001b[0m job\u001b[38;5;241m=\u001b[39msampler\u001b[38;5;241m.\u001b[39mrun(circuit)\n\u001b[1;32m----> 2\u001b[0m \u001b[43mjob\u001b[49m\u001b[38;5;241;43m.\u001b[39;49m\u001b[43mresult\u001b[49m\u001b[43m(\u001b[49m\u001b[43m)\u001b[49m\u001b[38;5;241;43m.\u001b[39;49m\u001b[43mget_counts\u001b[49m()\n",
      "\u001b[1;31mAttributeError\u001b[0m: 'SamplerResult' object has no attribute 'get_counts'"
     ]
    }
   ],
   "source": [
    "job=sampler.run(circuit)\n",
    "job.result().get_counts()"
   ]
  },
  {
   "cell_type": "code",
   "execution_count": 21,
   "id": "46377e24-389c-4db7-84fd-0eb9a487beb0",
   "metadata": {},
   "outputs": [
    {
     "ename": "TypeError",
     "evalue": "'qulacs_core.ParametricQuantumCircuit' object is not iterable",
     "output_type": "error",
     "traceback": [
      "\u001b[1;31m---------------------------------------------------------------------------\u001b[0m",
      "\u001b[1;31mTypeError\u001b[0m                                 Traceback (most recent call last)",
      "Cell \u001b[1;32mIn[21], line 6\u001b[0m\n\u001b[0;32m      4\u001b[0m p\u001b[38;5;241m=\u001b[39mQulacsProvider()\u001b[38;5;241m.\u001b[39mget_backend(\u001b[38;5;124m'\u001b[39m\u001b[38;5;124mqulacs_simulator\u001b[39m\u001b[38;5;124m'\u001b[39m)\n\u001b[0;32m      5\u001b[0m p\u001b[38;5;241m.\u001b[39mset_options(\u001b[38;5;241m*\u001b[39m\u001b[38;5;241m*\u001b[39m{\u001b[38;5;124m'\u001b[39m\u001b[38;5;124mshots\u001b[39m\u001b[38;5;124m'\u001b[39m:\u001b[38;5;241m1000\u001b[39m})\n\u001b[1;32m----> 6\u001b[0m res\u001b[38;5;241m=\u001b[39m\u001b[43mp\u001b[49m\u001b[38;5;241;43m.\u001b[39;49m\u001b[43mrun\u001b[49m\u001b[43m(\u001b[49m\u001b[43mqul\u001b[49m\u001b[43m(\u001b[49m\u001b[43m)\u001b[49m\u001b[43m[\u001b[49m\u001b[38;5;241;43m0\u001b[39;49m\u001b[43m]\u001b[49m\u001b[43m)\u001b[49m\u001b[38;5;241m.\u001b[39mresult()\n\u001b[0;32m      7\u001b[0m res\u001b[38;5;241m.\u001b[39mget_counts()\n",
      "File \u001b[1;32m~\\AppData\\Roaming\\Python\\Python39\\site-packages\\qiskit_qulacs\\qulacs_backend.py:174\u001b[0m, in \u001b[0;36mQulacsBackend.run\u001b[1;34m(self, run_input, **run_options)\u001b[0m\n\u001b[0;32m    167\u001b[0m \u001b[38;5;28;01mdef\u001b[39;00m \u001b[38;5;21mrun\u001b[39m(\n\u001b[0;32m    168\u001b[0m     \u001b[38;5;28mself\u001b[39m,\n\u001b[0;32m    169\u001b[0m     run_input: Union[QuantumCircuit, List[QuantumCircuit]],\n\u001b[0;32m    170\u001b[0m     \u001b[38;5;241m*\u001b[39m\u001b[38;5;241m*\u001b[39mrun_options,\n\u001b[0;32m    171\u001b[0m ) \u001b[38;5;241m-\u001b[39m\u001b[38;5;241m>\u001b[39m QulacsJob:\n\u001b[0;32m    172\u001b[0m     run_input \u001b[38;5;241m=\u001b[39m [run_input] \u001b[38;5;28;01mif\u001b[39;00m \u001b[38;5;28misinstance\u001b[39m(run_input, QuantumCircuit) \u001b[38;5;28;01melse\u001b[39;00m run_input\n\u001b[1;32m--> 174\u001b[0m     run_input \u001b[38;5;241m=\u001b[39m \u001b[38;5;28;43mlist\u001b[39;49m\u001b[43m(\u001b[49m\u001b[43mqiskit_to_qulacs\u001b[49m\u001b[43m(\u001b[49m\u001b[43mrun_input\u001b[49m\u001b[43m)\u001b[49m\u001b[43m)\u001b[49m\n\u001b[0;32m    175\u001b[0m     config \u001b[38;5;241m=\u001b[39m (\n\u001b[0;32m    176\u001b[0m         generate_config(\u001b[38;5;28mself\u001b[39m\u001b[38;5;241m.\u001b[39moptions, run_options) \u001b[38;5;28;01mif\u001b[39;00m run_options \u001b[38;5;28;01melse\u001b[39;00m \u001b[38;5;28mself\u001b[39m\u001b[38;5;241m.\u001b[39moptions\n\u001b[0;32m    177\u001b[0m     )\n\u001b[0;32m    179\u001b[0m     \u001b[38;5;66;03m# Use GPU if available\u001b[39;00m\n",
      "File \u001b[1;32m~\\AppData\\Roaming\\Python\\Python39\\site-packages\\qiskit_qulacs\\adapter.py:280\u001b[0m, in \u001b[0;36mqiskit_to_qulacs\u001b[1;34m(circuits)\u001b[0m\n\u001b[0;32m    269\u001b[0m \u001b[38;5;28;01mdef\u001b[39;00m \u001b[38;5;21mqiskit_to_qulacs\u001b[39m(\n\u001b[0;32m    270\u001b[0m     circuits: List[QuantumCircuit],\n\u001b[0;32m    271\u001b[0m ) \u001b[38;5;241m-\u001b[39m\u001b[38;5;241m>\u001b[39m Iterable[ParametricQuantumCircuit]:\n\u001b[0;32m    272\u001b[0m \u001b[38;5;250m    \u001b[39m\u001b[38;5;124;03m\"\"\"\u001b[39;00m\n\u001b[0;32m    273\u001b[0m \u001b[38;5;124;03m    The function `qiskit_to_qulacs` converts a list of Qiskit quantum circuits\u001b[39;00m\n\u001b[0;32m    274\u001b[0m \u001b[38;5;124;03m    into a generator of Qulacs circuits.\u001b[39;00m\n\u001b[1;32m   (...)\u001b[0m\n\u001b[0;32m    278\u001b[0m \u001b[38;5;124;03m      `QuantumCircuit` objects.\u001b[39;00m\n\u001b[0;32m    279\u001b[0m \u001b[38;5;124;03m    \"\"\"\u001b[39;00m\n\u001b[1;32m--> 280\u001b[0m     \u001b[38;5;28;01mfor\u001b[39;00m circuit \u001b[38;5;129;01min\u001b[39;00m circuits:\n\u001b[0;32m    281\u001b[0m         \u001b[38;5;28;01myield\u001b[39;00m convert_qiskit_to_qulacs_circuit(circuit)()[\u001b[38;5;241m0\u001b[39m]\n",
      "\u001b[1;31mTypeError\u001b[0m: 'qulacs_core.ParametricQuantumCircuit' object is not iterable"
     ]
    }
   ],
   "source": [
    "from qiskit_qulacs import QulacsProvider \n",
    "from qiskit_qulacs.adapter import convert_qiskit_to_qulacs_circuit\n",
    "qul=convert_qiskit_to_qulacs_circuit(circuit)\n",
    "p=QulacsProvider().get_backend('qulacs_simulator')\n",
    "p.set_options(**{'shots':1000})\n",
    "res=p.run(qul()[0]).result()\n",
    "res.get_counts()"
   ]
  },
  {
   "cell_type": "code",
   "execution_count": 20,
   "id": "95c48f54-b4ef-4279-9a5d-8f33604da536",
   "metadata": {},
   "outputs": [
    {
     "data": {
      "text/plain": [
       "<qulacs_core.ParametricQuantumCircuit at 0x175c9a9f430>"
      ]
     },
     "execution_count": 20,
     "metadata": {},
     "output_type": "execute_result"
    }
   ],
   "source": [
    "qul()[0]"
   ]
  },
  {
   "cell_type": "code",
   "execution_count": 2,
   "id": "fe4f0439-3aaa-4e3c-8cb6-40d27c85c900",
   "metadata": {},
   "outputs": [],
   "source": [
    "import matplotlib.pyplot as plt\n",
    "from qiskit import QuantumCircuit\n",
    "from qiskit.visualization import plot_histogram\n",
    "\n",
    "from qiskit_qulacs import QulacsProvider\n",
    "\n",
    "# Create a bell state\n",
    "qc = QuantumCircuit(3)\n",
    "qc.h(0)\n",
    "qc.cx(0, 1)\n",
    "qc.cx(0, 2)\n",
    "\n",
    "# Use Qiskit-Qulacs to run the circuit\n",
    "backend = QulacsProvider().get_backend(\"qulacs_simulator\")\n",
    "result = backend.run(qc, shots=1024, seed_simulator=42).result()\n",
    "counts = result.get_counts()\n",
    "\n",
    "# Visualization\n",
    "plot_histogram(counts)\n",
    "plt.show()"
   ]
  },
  {
   "cell_type": "code",
   "execution_count": 3,
   "id": "242c4107-a264-4607-84a5-7a1b32e49c5a",
   "metadata": {},
   "outputs": [
    {
     "data": {
      "text/plain": [
       "{'111': 498, '000': 526}"
      ]
     },
     "execution_count": 3,
     "metadata": {},
     "output_type": "execute_result"
    }
   ],
   "source": [
    "counts"
   ]
  },
  {
   "cell_type": "code",
   "execution_count": 5,
   "id": "609f17b2-2083-449b-b98a-b297b294e4ae",
   "metadata": {},
   "outputs": [
    {
     "data": {
      "text/plain": [
       "[QulacsBackend('qulacs_simulator')]"
      ]
     },
     "execution_count": 5,
     "metadata": {},
     "output_type": "execute_result"
    }
   ],
   "source": [
    "QulacsProvider().backends()"
   ]
  },
  {
   "cell_type": "code",
   "execution_count": 8,
   "id": "456f8ca1-23eb-436b-aa28-301a6a031259",
   "metadata": {},
   "outputs": [],
   "source": [
    "from iqm.qiskit_iqm import IQMProvider\n",
    "iqm_server_url = \"https://demo.qc.iqm.fi/cocos/\"  # Replace this with the correct URL\n",
    "provider = IQMProvider(iqm_server_url)"
   ]
  },
  {
   "cell_type": "code",
   "execution_count": 9,
   "id": "70e0e264-d49d-49a7-aa94-9f436fe67cc2",
   "metadata": {},
   "outputs": [
    {
     "ename": "ClientAuthenticationError",
     "evalue": "Authentication failed: {\"detail\":\"access token not available for url: http://demo.qc.iqm.fi/cocos/quantum-architecture\"}",
     "output_type": "error",
     "traceback": [
      "\u001b[1;31m---------------------------------------------------------------------------\u001b[0m",
      "\u001b[1;31mClientAuthenticationError\u001b[0m                 Traceback (most recent call last)",
      "Cell \u001b[1;32mIn[9], line 1\u001b[0m\n\u001b[1;32m----> 1\u001b[0m \u001b[43mprovider\u001b[49m\u001b[38;5;241;43m.\u001b[39;49m\u001b[43mget_backend\u001b[49m\u001b[43m(\u001b[49m\u001b[43m)\u001b[49m\n",
      "File \u001b[1;32m~\\AppData\\Roaming\\Python\\Python39\\site-packages\\iqm\\qiskit_iqm\\iqm_provider.py:296\u001b[0m, in \u001b[0;36mIQMProvider.get_backend\u001b[1;34m(self, name)\u001b[0m\n\u001b[0;32m    294\u001b[0m \u001b[38;5;28;01mif\u001b[39;00m name \u001b[38;5;241m==\u001b[39m \u001b[38;5;124m'\u001b[39m\u001b[38;5;124mfacade_adonis\u001b[39m\u001b[38;5;124m'\u001b[39m:\n\u001b[0;32m    295\u001b[0m     \u001b[38;5;28;01mreturn\u001b[39;00m IQMFacadeBackend(client)\n\u001b[1;32m--> 296\u001b[0m \u001b[38;5;28;01mreturn\u001b[39;00m \u001b[43mIQMBackend\u001b[49m\u001b[43m(\u001b[49m\u001b[43mclient\u001b[49m\u001b[43m)\u001b[49m\n",
      "File \u001b[1;32m~\\AppData\\Roaming\\Python\\Python39\\site-packages\\iqm\\qiskit_iqm\\iqm_provider.py:51\u001b[0m, in \u001b[0;36mIQMBackend.__init__\u001b[1;34m(self, client, **kwargs)\u001b[0m\n\u001b[0;32m     50\u001b[0m \u001b[38;5;28;01mdef\u001b[39;00m \u001b[38;5;21m__init__\u001b[39m(\u001b[38;5;28mself\u001b[39m, client: IQMClient, \u001b[38;5;241m*\u001b[39m\u001b[38;5;241m*\u001b[39mkwargs):\n\u001b[1;32m---> 51\u001b[0m     architecture \u001b[38;5;241m=\u001b[39m \u001b[43mclient\u001b[49m\u001b[38;5;241;43m.\u001b[39;49m\u001b[43mget_quantum_architecture\u001b[49m\u001b[43m(\u001b[49m\u001b[43m)\u001b[49m\n\u001b[0;32m     52\u001b[0m     \u001b[38;5;28msuper\u001b[39m()\u001b[38;5;241m.\u001b[39m\u001b[38;5;21m__init__\u001b[39m(architecture, \u001b[38;5;241m*\u001b[39m\u001b[38;5;241m*\u001b[39mkwargs)\n\u001b[0;32m     53\u001b[0m     \u001b[38;5;28mself\u001b[39m\u001b[38;5;241m.\u001b[39mclient: IQMClient \u001b[38;5;241m=\u001b[39m client\n",
      "File \u001b[1;32m~\\AppData\\Roaming\\Python\\Python39\\site-packages\\iqm\\iqm_client\\iqm_client.py:1043\u001b[0m, in \u001b[0;36mIQMClient.get_quantum_architecture\u001b[1;34m(self, timeout_secs)\u001b[0m\n\u001b[0;32m   1041\u001b[0m     \u001b[38;5;28;01mraise\u001b[39;00m ClientConfigurationError(\u001b[38;5;124m'\u001b[39m\u001b[38;5;124mAuthentication is required.\u001b[39m\u001b[38;5;124m'\u001b[39m)\n\u001b[0;32m   1042\u001b[0m \u001b[38;5;28;01mif\u001b[39;00m result\u001b[38;5;241m.\u001b[39mstatus_code \u001b[38;5;241m==\u001b[39m \u001b[38;5;241m401\u001b[39m:\n\u001b[1;32m-> 1043\u001b[0m     \u001b[38;5;28;01mraise\u001b[39;00m ClientAuthenticationError(\u001b[38;5;124mf\u001b[39m\u001b[38;5;124m'\u001b[39m\u001b[38;5;124mAuthentication failed: \u001b[39m\u001b[38;5;132;01m{\u001b[39;00mresult\u001b[38;5;241m.\u001b[39mtext\u001b[38;5;132;01m}\u001b[39;00m\u001b[38;5;124m'\u001b[39m)\n\u001b[0;32m   1045\u001b[0m result\u001b[38;5;241m.\u001b[39mraise_for_status()\n\u001b[0;32m   1046\u001b[0m \u001b[38;5;28;01mtry\u001b[39;00m:\n",
      "\u001b[1;31mClientAuthenticationError\u001b[0m: Authentication failed: {\"detail\":\"access token not available for url: http://demo.qc.iqm.fi/cocos/quantum-architecture\"}"
     ]
    }
   ],
   "source": [
    "provider.get_backend()"
   ]
  },
  {
   "cell_type": "code",
   "execution_count": 10,
   "id": "5dd96e12-317a-469f-8d1a-c9b8be2616cb",
   "metadata": {},
   "outputs": [],
   "source": [
    "import qiskit\n",
    "from qiskit_qulacs import QulacsProvider\n",
    "\n",
    "# Create a quantum circuit\n",
    "qc = qiskit.QuantumCircuit(2)\n",
    "qc.h(0)\n",
    "qc.cx(0, 1)\n",
    "\n",
    "# Use Qiskit-Qulacs to run the circuit\n",
    "backend = QulacsProvider().get_backend('qulacs_simulator')"
   ]
  },
  {
   "cell_type": "code",
   "execution_count": 19,
   "id": "67d94737-fee1-4f17-a40e-eee4c2f4924e",
   "metadata": {},
   "outputs": [],
   "source": [
    "job=backend.run(qc,shots=1024)\n",
    "result=job.result()"
   ]
  },
  {
   "cell_type": "code",
   "execution_count": 21,
   "id": "71572a78-1702-4885-ae1c-e94093255e06",
   "metadata": {},
   "outputs": [
    {
     "data": {
      "text/plain": [
       "{'11': 515, '00': 509}"
      ]
     },
     "execution_count": 21,
     "metadata": {},
     "output_type": "execute_result"
    }
   ],
   "source": [
    "result.get_counts()"
   ]
  },
  {
   "cell_type": "code",
   "execution_count": 2,
   "id": "a3f4b3a5-d278-4de7-9c7d-f0aa8e509825",
   "metadata": {},
   "outputs": [],
   "source": [
    "import qcentroid_runtime_qiskit.providers as providers"
   ]
  },
  {
   "cell_type": "code",
   "execution_count": 10,
   "id": "5a0c4e5c-3211-403c-a8ce-e6666d92c7b9",
   "metadata": {},
   "outputs": [
    {
     "data": {
      "text/plain": [
       "qcentroid_runtime_qiskit.providers.AQT.AQT"
      ]
     },
     "execution_count": 10,
     "metadata": {},
     "output_type": "execute_result"
    }
   ],
   "source": [
    "import inspect\n",
    "[x[1] for x in inspect.getmembers(providers, predicate=inspect.isclass) if x[0]=='AQT'][0]"
   ]
  },
  {
   "cell_type": "code",
   "execution_count": 3,
   "id": "7dda22e7-3153-49f3-8386-95085923853b",
   "metadata": {},
   "outputs": [
    {
     "data": {
      "text/plain": [
       "{'__name__': '__main__',\n",
       " '__doc__': 'Automatically created module for IPython interactive environment',\n",
       " '__package__': None,\n",
       " '__loader__': None,\n",
       " '__spec__': None,\n",
       " '__builtin__': <module 'builtins' (built-in)>,\n",
       " '__builtins__': <module 'builtins' (built-in)>,\n",
       " '_ih': ['',\n",
       "  'from qiskit import QuantumCircuit\\nfrom qiskit_qir import to_qir_module\\nfrom qiskit_qasm3_import import parse\\n\\n\\nqasm_str=\"\"\"OPENQASM 3.0; include \\'stdgates.inc\\'; bit[11] c; qubit[12] q; x q[11]; h q[0]; h q[1]; h q[2]; h q[3]; h q[4]; h q[5]; h q[6]; h q[7]; h q[8]; h q[9]; h q[10]; h q[11]; barrier q[0], q[1], q[2], q[3], q[4], q[5], q[6], q[7], q[8], q[9], q[10], q[11]; cx q[0], q[11]; cx q[1], q[11]; cx q[2], q[11]; cx q[3], q[11]; cx q[4], q[11]; cx q[5], q[11]; cx q[6], q[11]; cx q[7], q[11]; cx q[8], q[11]; cx q[9], q[11];  cx q[10], q[11]; barrier q[0], q[1], q[2], q[3], q[4], q[5], q[6], q[7], q[8], q[9], q[10], q[11]; h q[0]; h q[1]; h q[2]; h q[3]; h q[4]; h q[5]; h q[6]; h q[7]; h q[8]; h q[9]; h q[10]; h q[11]; barrier q[0], q[1], q[2], q[3], q[4], q[5], q[6], q[7], q[8], q[9], q[10], q[11]; c[0] = measure q[0]; c[1] = measure q[1]; c[2] = measure q[2]; c[3] = measure q[3]; c[4] = measure q[4]; c[5] = measure q[5]; c[6] = measure q[6]; c[7] = measure q[7]; c[8] = measure q[8]; c[9] = measure q[9]; c[10] = measure q[10]; \"\"\"\\n\\nif \"OPENQASM 2.0\" in qasm_str:\\n    circuit=QuantumCircuit.from_qasm_str(qasm_str)\\nelse:\\n    circuit = parse(qasm_str)',\n",
       "  'from qcentroid_runtime_qiskit import QCentroidRuntimeQiskit\\nparams={\\n    \"provider\":\"Rigetti\",\\n    \"backend\":\\'offline_simulator_noise\\',\\n    \"IBMQuantumToken\":\\'6510860c8491290a313b590226cee09216f91cec324c9b19dd4f6a57003c1c2886278066832e2abcdbd64720ea59bd93344ec0bbb6ac782a60bfe3987f4acea6\\',\\n    \"IBMQuantumInstance\":\\'ibm-q/open/main\\',\\n    \"IBMCloudToken\":\"ZWrYExyPnK8sswxlMvRYUw6BW0FfyNcegJhM3VnHu5vt\",\\n    \"IBMCloudInstance\":\\'crn:v1:bluemix:public:quantum-computing:us-east:a/f14b8d2a8bd8413489fa144106e4b30f:257aa307-1024-4421-8914-9d3c69208a16::\\',\\n    \"qcentroid_job_id\":\\'test\\',\\n    \"IonQ_API_Key\":\\'zCD4mYwQQEbKadjjkUfho5Nji9VhgHJE\\',\\n    \"IonQ_Noise_Model\":\\'aria-1\\',\\n    \"AQT_AccessToken\":\"ACCESS_TOKEN\"\\n}\\n\\ninstance=QCentroidRuntimeQiskit(params)\\ninstance.execute(circuit)',\n",
       "  'globals()'],\n",
       " '_oh': {},\n",
       " '_dh': [WindowsPath('h:/Proyectos/qcentroid-runtime-qiskit')],\n",
       " 'In': ['',\n",
       "  'from qiskit import QuantumCircuit\\nfrom qiskit_qir import to_qir_module\\nfrom qiskit_qasm3_import import parse\\n\\n\\nqasm_str=\"\"\"OPENQASM 3.0; include \\'stdgates.inc\\'; bit[11] c; qubit[12] q; x q[11]; h q[0]; h q[1]; h q[2]; h q[3]; h q[4]; h q[5]; h q[6]; h q[7]; h q[8]; h q[9]; h q[10]; h q[11]; barrier q[0], q[1], q[2], q[3], q[4], q[5], q[6], q[7], q[8], q[9], q[10], q[11]; cx q[0], q[11]; cx q[1], q[11]; cx q[2], q[11]; cx q[3], q[11]; cx q[4], q[11]; cx q[5], q[11]; cx q[6], q[11]; cx q[7], q[11]; cx q[8], q[11]; cx q[9], q[11];  cx q[10], q[11]; barrier q[0], q[1], q[2], q[3], q[4], q[5], q[6], q[7], q[8], q[9], q[10], q[11]; h q[0]; h q[1]; h q[2]; h q[3]; h q[4]; h q[5]; h q[6]; h q[7]; h q[8]; h q[9]; h q[10]; h q[11]; barrier q[0], q[1], q[2], q[3], q[4], q[5], q[6], q[7], q[8], q[9], q[10], q[11]; c[0] = measure q[0]; c[1] = measure q[1]; c[2] = measure q[2]; c[3] = measure q[3]; c[4] = measure q[4]; c[5] = measure q[5]; c[6] = measure q[6]; c[7] = measure q[7]; c[8] = measure q[8]; c[9] = measure q[9]; c[10] = measure q[10]; \"\"\"\\n\\nif \"OPENQASM 2.0\" in qasm_str:\\n    circuit=QuantumCircuit.from_qasm_str(qasm_str)\\nelse:\\n    circuit = parse(qasm_str)',\n",
       "  'from qcentroid_runtime_qiskit import QCentroidRuntimeQiskit\\nparams={\\n    \"provider\":\"Rigetti\",\\n    \"backend\":\\'offline_simulator_noise\\',\\n    \"IBMQuantumToken\":\\'6510860c8491290a313b590226cee09216f91cec324c9b19dd4f6a57003c1c2886278066832e2abcdbd64720ea59bd93344ec0bbb6ac782a60bfe3987f4acea6\\',\\n    \"IBMQuantumInstance\":\\'ibm-q/open/main\\',\\n    \"IBMCloudToken\":\"ZWrYExyPnK8sswxlMvRYUw6BW0FfyNcegJhM3VnHu5vt\",\\n    \"IBMCloudInstance\":\\'crn:v1:bluemix:public:quantum-computing:us-east:a/f14b8d2a8bd8413489fa144106e4b30f:257aa307-1024-4421-8914-9d3c69208a16::\\',\\n    \"qcentroid_job_id\":\\'test\\',\\n    \"IonQ_API_Key\":\\'zCD4mYwQQEbKadjjkUfho5Nji9VhgHJE\\',\\n    \"IonQ_Noise_Model\":\\'aria-1\\',\\n    \"AQT_AccessToken\":\"ACCESS_TOKEN\"\\n}\\n\\ninstance=QCentroidRuntimeQiskit(params)\\ninstance.execute(circuit)',\n",
       "  'globals()'],\n",
       " 'Out': {},\n",
       " 'get_ipython': <bound method InteractiveShell.get_ipython of <ipykernel.zmqshell.ZMQInteractiveShell object at 0x000001D5B4F606A0>>,\n",
       " 'exit': <IPython.core.autocall.ZMQExitAutocall at 0x1d5b4f7d250>,\n",
       " 'quit': <IPython.core.autocall.ZMQExitAutocall at 0x1d5b4f7d250>,\n",
       " 'open': <function io.open(file, mode='r', buffering=-1, encoding=None, errors=None, newline=None, closefd=True, opener=None)>,\n",
       " '_': '',\n",
       " '__': '',\n",
       " '___': '',\n",
       " '__session__': 'h:\\\\Proyectos\\\\qcentroid-runtime-qiskit\\\\Prueba.ipynb',\n",
       " '_i': 'from qcentroid_runtime_qiskit import QCentroidRuntimeQiskit\\nparams={\\n    \"provider\":\"Rigetti\",\\n    \"backend\":\\'offline_simulator_noise\\',\\n    \"IBMQuantumToken\":\\'6510860c8491290a313b590226cee09216f91cec324c9b19dd4f6a57003c1c2886278066832e2abcdbd64720ea59bd93344ec0bbb6ac782a60bfe3987f4acea6\\',\\n    \"IBMQuantumInstance\":\\'ibm-q/open/main\\',\\n    \"IBMCloudToken\":\"ZWrYExyPnK8sswxlMvRYUw6BW0FfyNcegJhM3VnHu5vt\",\\n    \"IBMCloudInstance\":\\'crn:v1:bluemix:public:quantum-computing:us-east:a/f14b8d2a8bd8413489fa144106e4b30f:257aa307-1024-4421-8914-9d3c69208a16::\\',\\n    \"qcentroid_job_id\":\\'test\\',\\n    \"IonQ_API_Key\":\\'zCD4mYwQQEbKadjjkUfho5Nji9VhgHJE\\',\\n    \"IonQ_Noise_Model\":\\'aria-1\\',\\n    \"AQT_AccessToken\":\"ACCESS_TOKEN\"\\n}\\n\\ninstance=QCentroidRuntimeQiskit(params)\\ninstance.execute(circuit)',\n",
       " '_ii': 'from qiskit import QuantumCircuit\\nfrom qiskit_qir import to_qir_module\\nfrom qiskit_qasm3_import import parse\\n\\n\\nqasm_str=\"\"\"OPENQASM 3.0; include \\'stdgates.inc\\'; bit[11] c; qubit[12] q; x q[11]; h q[0]; h q[1]; h q[2]; h q[3]; h q[4]; h q[5]; h q[6]; h q[7]; h q[8]; h q[9]; h q[10]; h q[11]; barrier q[0], q[1], q[2], q[3], q[4], q[5], q[6], q[7], q[8], q[9], q[10], q[11]; cx q[0], q[11]; cx q[1], q[11]; cx q[2], q[11]; cx q[3], q[11]; cx q[4], q[11]; cx q[5], q[11]; cx q[6], q[11]; cx q[7], q[11]; cx q[8], q[11]; cx q[9], q[11];  cx q[10], q[11]; barrier q[0], q[1], q[2], q[3], q[4], q[5], q[6], q[7], q[8], q[9], q[10], q[11]; h q[0]; h q[1]; h q[2]; h q[3]; h q[4]; h q[5]; h q[6]; h q[7]; h q[8]; h q[9]; h q[10]; h q[11]; barrier q[0], q[1], q[2], q[3], q[4], q[5], q[6], q[7], q[8], q[9], q[10], q[11]; c[0] = measure q[0]; c[1] = measure q[1]; c[2] = measure q[2]; c[3] = measure q[3]; c[4] = measure q[4]; c[5] = measure q[5]; c[6] = measure q[6]; c[7] = measure q[7]; c[8] = measure q[8]; c[9] = measure q[9]; c[10] = measure q[10]; \"\"\"\\n\\nif \"OPENQASM 2.0\" in qasm_str:\\n    circuit=QuantumCircuit.from_qasm_str(qasm_str)\\nelse:\\n    circuit = parse(qasm_str)',\n",
       " '_iii': '',\n",
       " '_i1': 'from qiskit import QuantumCircuit\\nfrom qiskit_qir import to_qir_module\\nfrom qiskit_qasm3_import import parse\\n\\n\\nqasm_str=\"\"\"OPENQASM 3.0; include \\'stdgates.inc\\'; bit[11] c; qubit[12] q; x q[11]; h q[0]; h q[1]; h q[2]; h q[3]; h q[4]; h q[5]; h q[6]; h q[7]; h q[8]; h q[9]; h q[10]; h q[11]; barrier q[0], q[1], q[2], q[3], q[4], q[5], q[6], q[7], q[8], q[9], q[10], q[11]; cx q[0], q[11]; cx q[1], q[11]; cx q[2], q[11]; cx q[3], q[11]; cx q[4], q[11]; cx q[5], q[11]; cx q[6], q[11]; cx q[7], q[11]; cx q[8], q[11]; cx q[9], q[11];  cx q[10], q[11]; barrier q[0], q[1], q[2], q[3], q[4], q[5], q[6], q[7], q[8], q[9], q[10], q[11]; h q[0]; h q[1]; h q[2]; h q[3]; h q[4]; h q[5]; h q[6]; h q[7]; h q[8]; h q[9]; h q[10]; h q[11]; barrier q[0], q[1], q[2], q[3], q[4], q[5], q[6], q[7], q[8], q[9], q[10], q[11]; c[0] = measure q[0]; c[1] = measure q[1]; c[2] = measure q[2]; c[3] = measure q[3]; c[4] = measure q[4]; c[5] = measure q[5]; c[6] = measure q[6]; c[7] = measure q[7]; c[8] = measure q[8]; c[9] = measure q[9]; c[10] = measure q[10]; \"\"\"\\n\\nif \"OPENQASM 2.0\" in qasm_str:\\n    circuit=QuantumCircuit.from_qasm_str(qasm_str)\\nelse:\\n    circuit = parse(qasm_str)',\n",
       " 'QuantumCircuit': qiskit.circuit.quantumcircuit.QuantumCircuit,\n",
       " 'to_qir_module': <function qiskit_qir.translate.to_qir_module(circuits: Union[qiskit.circuit.quantumcircuit.QuantumCircuit, List[qiskit.circuit.quantumcircuit.QuantumCircuit]], profile: str = 'AdaptiveExecution', **kwargs) -> Tuple[Module, List[str]]>,\n",
       " 'parse': <function qiskit_qasm3_import.api.parse(string: str, /) -> qiskit.circuit.quantumcircuit.QuantumCircuit>,\n",
       " 'qasm_str': \"OPENQASM 3.0; include 'stdgates.inc'; bit[11] c; qubit[12] q; x q[11]; h q[0]; h q[1]; h q[2]; h q[3]; h q[4]; h q[5]; h q[6]; h q[7]; h q[8]; h q[9]; h q[10]; h q[11]; barrier q[0], q[1], q[2], q[3], q[4], q[5], q[6], q[7], q[8], q[9], q[10], q[11]; cx q[0], q[11]; cx q[1], q[11]; cx q[2], q[11]; cx q[3], q[11]; cx q[4], q[11]; cx q[5], q[11]; cx q[6], q[11]; cx q[7], q[11]; cx q[8], q[11]; cx q[9], q[11];  cx q[10], q[11]; barrier q[0], q[1], q[2], q[3], q[4], q[5], q[6], q[7], q[8], q[9], q[10], q[11]; h q[0]; h q[1]; h q[2]; h q[3]; h q[4]; h q[5]; h q[6]; h q[7]; h q[8]; h q[9]; h q[10]; h q[11]; barrier q[0], q[1], q[2], q[3], q[4], q[5], q[6], q[7], q[8], q[9], q[10], q[11]; c[0] = measure q[0]; c[1] = measure q[1]; c[2] = measure q[2]; c[3] = measure q[3]; c[4] = measure q[4]; c[5] = measure q[5]; c[6] = measure q[6]; c[7] = measure q[7]; c[8] = measure q[8]; c[9] = measure q[9]; c[10] = measure q[10]; \",\n",
       " 'circuit': <qiskit.circuit.quantumcircuit.QuantumCircuit at 0x1d5d78dbc10>,\n",
       " '_i2': 'from qcentroid_runtime_qiskit import QCentroidRuntimeQiskit\\nparams={\\n    \"provider\":\"Rigetti\",\\n    \"backend\":\\'offline_simulator_noise\\',\\n    \"IBMQuantumToken\":\\'6510860c8491290a313b590226cee09216f91cec324c9b19dd4f6a57003c1c2886278066832e2abcdbd64720ea59bd93344ec0bbb6ac782a60bfe3987f4acea6\\',\\n    \"IBMQuantumInstance\":\\'ibm-q/open/main\\',\\n    \"IBMCloudToken\":\"ZWrYExyPnK8sswxlMvRYUw6BW0FfyNcegJhM3VnHu5vt\",\\n    \"IBMCloudInstance\":\\'crn:v1:bluemix:public:quantum-computing:us-east:a/f14b8d2a8bd8413489fa144106e4b30f:257aa307-1024-4421-8914-9d3c69208a16::\\',\\n    \"qcentroid_job_id\":\\'test\\',\\n    \"IonQ_API_Key\":\\'zCD4mYwQQEbKadjjkUfho5Nji9VhgHJE\\',\\n    \"IonQ_Noise_Model\":\\'aria-1\\',\\n    \"AQT_AccessToken\":\"ACCESS_TOKEN\"\\n}\\n\\ninstance=QCentroidRuntimeQiskit(params)\\ninstance.execute(circuit)',\n",
       " 'QCentroidRuntimeQiskit': qcentroid_runtime_qiskit.QCentroidRuntimeQiskit,\n",
       " 'params': {'provider': 'Rigetti',\n",
       "  'backend': 'offline_simulator_noise',\n",
       "  'IBMQuantumToken': '6510860c8491290a313b590226cee09216f91cec324c9b19dd4f6a57003c1c2886278066832e2abcdbd64720ea59bd93344ec0bbb6ac782a60bfe3987f4acea6',\n",
       "  'IBMQuantumInstance': 'ibm-q/open/main',\n",
       "  'IBMCloudToken': 'ZWrYExyPnK8sswxlMvRYUw6BW0FfyNcegJhM3VnHu5vt',\n",
       "  'IBMCloudInstance': 'crn:v1:bluemix:public:quantum-computing:us-east:a/f14b8d2a8bd8413489fa144106e4b30f:257aa307-1024-4421-8914-9d3c69208a16::',\n",
       "  'qcentroid_job_id': 'test',\n",
       "  'IonQ_API_Key': 'zCD4mYwQQEbKadjjkUfho5Nji9VhgHJE',\n",
       "  'IonQ_Noise_Model': 'aria-1',\n",
       "  'AQT_AccessToken': 'ACCESS_TOKEN'},\n",
       " 'instance': <qcentroid_runtime_qiskit.QCentroidRuntimeQiskit at 0x1d5b4fb46d0>,\n",
       " '_i3': 'globals()'}"
      ]
     },
     "execution_count": 3,
     "metadata": {},
     "output_type": "execute_result"
    }
   ],
   "source": []
  },
  {
   "cell_type": "code",
   "execution_count": null,
   "id": "7a649fcd-123a-4104-b5c3-e23171f5172e",
   "metadata": {},
   "outputs": [],
   "source": []
  }
 ],
 "metadata": {
  "kernelspec": {
   "display_name": "Python 3 (ipykernel)",
   "language": "python",
   "name": "python3"
  },
  "language_info": {
   "codemirror_mode": {
    "name": "ipython",
    "version": 3
   },
   "file_extension": ".py",
   "mimetype": "text/x-python",
   "name": "python",
   "nbconvert_exporter": "python",
   "pygments_lexer": "ipython3",
   "version": "3.9.18"
  }
 },
 "nbformat": 4,
 "nbformat_minor": 5
}
