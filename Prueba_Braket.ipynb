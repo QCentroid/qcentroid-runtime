{
 "cells": [
  {
   "cell_type": "code",
   "execution_count": 1,
   "id": "9abcae50-fd7b-40a4-be2d-10ef61558ea6",
   "metadata": {},
   "outputs": [],
   "source": [
    "from braket.ir.openqasm import Program\n",
    "\n",
    "\n",
    "qasm_str=\"\"\"OPENQASM 3; bit[11] c; qubit[12] q; x q[11]; h q[0]; h q[1]; h q[2]; h q[3]; h q[4]; h q[5]; h q[6]; h q[7]; h q[8]; h q[9]; h q[10]; h q[11]; barrier q[0], q[1], q[2], q[3], q[4], q[5], q[6], q[7], q[8], q[9], q[10], q[11]; cnot q[0], q[11]; cnot q[1], q[11]; cnot q[2], q[11]; cnot q[3], q[11]; cnot q[4], q[11]; cnot q[5], q[11]; cnot q[6], q[11]; cnot q[7], q[11]; cnot q[8], q[11]; cnot q[9], q[11];  cnot q[10], q[11]; barrier q[0], q[1], q[2], q[3], q[4], q[5], q[6], q[7], q[8], q[9], q[10], q[11]; h q[0]; h q[1]; h q[2]; h q[3]; h q[4]; h q[5]; h q[6]; h q[7]; h q[8]; h q[9]; h q[10]; h q[11]; barrier q[0], q[1], q[2], q[3], q[4], q[5], q[6], q[7], q[8], q[9], q[10], q[11]; c[0] = measure q[0]; c[1] = measure q[1]; c[2] = measure q[2]; c[3] = measure q[3]; c[4] = measure q[4]; c[5] = measure q[5]; c[6] = measure q[6]; c[7] = measure q[7]; c[8] = measure q[8]; c[9] = measure q[9]; c[10] = measure q[10]; \"\"\"\n",
    "program = Program(source=qasm_str)"
   ]
  },
  {
   "cell_type": "code",
   "execution_count": 2,
   "id": "e37f5de6-b1b2-409e-a440-52cadff25ae4",
   "metadata": {},
   "outputs": [
    {
     "data": {
      "text/plain": [
       "Counter({'11111111111': 1000})"
      ]
     },
     "execution_count": 2,
     "metadata": {},
     "output_type": "execute_result"
    }
   ],
   "source": [
    "from qcentroid_runtime import QCentroidRuntimeBraket\n",
    "params={\n",
    "    \"provider\":\"LocalSimulator\",\n",
    "    \"backend\":'braket_sv',\n",
    "}\n",
    "\n",
    "instance=QCentroidRuntimeBraket(params)\n",
    "instance.execute(program)"
   ]
  },
  {
   "cell_type": "code",
   "execution_count": null,
   "id": "3bd39bda-9f40-424a-863e-c9ab2b459284",
   "metadata": {},
   "outputs": [],
   "source": []
  }
 ],
 "metadata": {
  "kernelspec": {
   "display_name": "Python 3 (ipykernel)",
   "language": "python",
   "name": "python3"
  },
  "language_info": {
   "codemirror_mode": {
    "name": "ipython",
    "version": 3
   },
   "file_extension": ".py",
   "mimetype": "text/x-python",
   "name": "python",
   "nbconvert_exporter": "python",
   "pygments_lexer": "ipython3",
   "version": "3.9.18"
  }
 },
 "nbformat": 4,
 "nbformat_minor": 5
}
